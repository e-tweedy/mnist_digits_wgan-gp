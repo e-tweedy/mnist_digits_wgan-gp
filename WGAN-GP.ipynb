{
 "cells": [
  {
   "cell_type": "markdown",
   "id": "ced57018-7c08-43c7-8642-daebe45be334",
   "metadata": {},
   "source": [
    "# A WGAN-GP model for mimicking hand-drawn digits"
   ]
  },
  {
   "cell_type": "markdown",
   "id": "8c7d174b-2132-4365-aef9-5bcb0613e3ac",
   "metadata": {},
   "source": [
    "This was built following a tutorial in the wonderful book Machine Learning with PyTorch and Scikit-Learn by Raschka, Liu and Mirjalili (2022, Packt Publishing). In this notebook, we do the following:\n",
    "\n",
    "1. Build a Wasserstein Generative Adversarial Network with Gradient Penalty (WGAN-GP) which generates and critiques 28x28 1-channel (greyscale) images.\n",
    "2. Train the model on the MNIST handwritten digit database (http://yann.lecun.com/exdb/mnist/) for 100 epochs (critic is trained for five iterations per epoch).\n",
    "3. Plot generated samples at several epoch stages so we can qualitatively track our training progress.\n",
    "\n",
    "Some commentary on our model choice, and some remarks about its features:\n",
    "\n",
    "* A standard Generative Adversarial Network (GAN) typically uses:\n",
    "    * Several fully-connected (FC) layers\n",
    "    * Leaky ReLU activation functions to allow nonzero gradients for negative input values and in principle make the network more expressive overall.\n",
    "    * BCE Loss function for the discriminator and the generator\n",
    "* We instead use a Wasserstein GAN with GP (WGAN-GP) which differs from a standard GAN in several ways:\n",
    "    * The FC layers are replace with transposed convolutional layers, which progressively upsample the 1x1 input feature space until we get 28x28 outputs.  A GAN with this convolutive structure is often called a Deep Convolutional GAN (DCGAN).\n",
    "    * Implements a loss function based on the Wasserstein-1 distance (i.e. \"earth-mover's distance\" or EM distance) between real and fake image distributions.  This is intended to improve training performance, based on a theoretical argument that the generator should be trained to minimize the dissimilarity between these distributions.  See: http://proceedings.mlr.press/v70/arjovsky17a/arjovsky17a.pdf  Note that:\n",
    "        * Computing the EM distance is intractible, but the loss functions we use essentially train the network to minimize an approximation of the EM distance (relying on the so-called Kantorovich-Rubinstein duality theorem).\n",
    "        * The discriminator function in a standard GAN is essentially a classifier, outputting a probability.  Our new discriminator is often called a \"critic\", and outputs a scalar rating instead of a probability, and this rating can be interpreted as a measure of how realistic the input images are.\n",
    "    * Uses a gradient penalty (GP) term on the discriminator loss function, in order to promote the 1-Lipschitz continuity property.  This property arises in the K-R duality theorem, which states that EM distance is equal to a particular supremum taken over all 1-Lipshitz continuous functions.  The original method for promoting 1-Lipshitz was weight clipping, but it was shown by Gulrajani et al (https://arxiv.org/pdf/1704.00028.pdf) that weight clipping can lead to exploding/vanishing gradients and capacity underuse and that GP can avoid these issues.\n",
    "    * Batch Normalization is typically used in DCGAN models (and convolutional networks in general) to promote better and faster convergenc.  We use Layer Normalization (https://arxiv.org/abs/1607.06450) which is recommended as a drop-in replacement for Batch Normalization in WGAN-GP models."
   ]
  },
  {
   "cell_type": "markdown",
   "id": "69222223-b534-4e6a-84ce-ef4c08535d77",
   "metadata": {},
   "source": [
    "Import necessary packages and set GPU device."
   ]
  },
  {
   "cell_type": "code",
   "execution_count": 1,
   "id": "0b979168-b21b-472b-8164-7efd373e4a0c",
   "metadata": {},
   "outputs": [],
   "source": [
    "import torch\n",
    "import torch.nn as nn\n",
    "import numpy as np\n",
    "import matplotlib.pyplot as plt\n",
    "device = torch.device(\"cuda:0\" if torch.cuda.is_available() else \"cpu\")"
   ]
  },
  {
   "cell_type": "markdown",
   "id": "3fe888d4-b489-46f5-81d6-4bfcee5d8e34",
   "metadata": {},
   "source": [
    "Define generator and discriminator/critic model architectures.  The generator architecture is a standard instance of nn.Sequential.  The discriminator/critic architecture needs a custom child class of nn.Module consisting of a sequential network model and a slightly modified forward method."
   ]
  },
  {
   "cell_type": "code",
   "execution_count": 2,
   "id": "ee8aa581-8f4c-44cb-8ee6-ee29aaf2ef5b",
   "metadata": {},
   "outputs": [],
   "source": [
    "def make_gen_net(input_size,num_filters):\n",
    "    model = nn.Sequential(\n",
    "        nn.ConvTranspose2d(input_size,4*n_filters,4,1,0,bias=False),\n",
    "        nn.InstanceNorm2d(4*n_filters),\n",
    "        nn.LeakyReLU(0.2),\n",
    "        nn.ConvTranspose2d(4*n_filters,2*n_filters,3,2,1,bias=False),\n",
    "        nn.InstanceNorm2d(2*n_filters),\n",
    "        nn.LeakyReLU(0.2),\n",
    "        nn.ConvTranspose2d(2*n_filters,n_filters,4,2,1,bias=False),\n",
    "        nn.InstanceNorm2d(n_filters),\n",
    "        nn.LeakyReLU(0.2),\n",
    "        nn.ConvTranspose2d(n_filters,1,4,2,1,bias=False),\n",
    "        nn.Tanh()\n",
    "    )\n",
    "    return model\n",
    "\n",
    "class Discriminator(nn.Module):\n",
    "    def __init__(self,n_filters):\n",
    "        super().__init__()\n",
    "        self.network = nn.Sequential(\n",
    "            nn.Conv2d(1,n_filters,4,2,1,bias=False),\n",
    "            nn.LeakyReLU(0.2),\n",
    "            nn.Conv2d(n_filters,2*n_filters,4,2,1,bias=False),\n",
    "            nn.InstanceNorm2d(2*n_filters),\n",
    "            nn.LeakyReLU(0.2),\n",
    "            nn.Conv2d(2*n_filters,4*n_filters,3,2,1,bias=False),\n",
    "            nn.InstanceNorm2d(4*n_filters),\n",
    "            nn.LeakyReLU(0.2),\n",
    "            nn.Conv2d(4*n_filters,1,4,1,0,bias=False),\n",
    "            nn.Sigmoid()\n",
    "        )\n",
    "    def forward(self,input):\n",
    "        output=self.network(input)\n",
    "        return output.view(-1,1).squeeze(0)"
   ]
  },
  {
   "cell_type": "markdown",
   "id": "3bdbe146-9c9c-4af0-bd37-2b72bb1ae661",
   "metadata": {},
   "source": [
    "Import the MNIST dataset and create the DataLoader"
   ]
  },
  {
   "cell_type": "code",
   "execution_count": 3,
   "id": "e402f2c4-a3bd-4ab2-ba6a-98d97c92dbac",
   "metadata": {},
   "outputs": [],
   "source": [
    "import torchvision\n",
    "from torchvision import transforms\n",
    "from torch.utils.data import DataLoader\n",
    "image_path='./'\n",
    "\n",
    "torch.manual_seed(1)\n",
    "np.random.seed(1)\n",
    "\n",
    "transform = transforms.Compose([transforms.ToTensor(),transforms.Normalize(mean=(0.5),std = (0.5)),])\n",
    "batch_size=64\n",
    "\n",
    "mnist_dataset=torchvision.datasets.MNIST(root=image_path,train=True,transform=transform,download=False)\n",
    "mnist_dl = DataLoader(mnist_dataset,batch_size=batch_size,shuffle=True,drop_last=True)"
   ]
  },
  {
   "cell_type": "markdown",
   "id": "d8efcda5-5f35-483d-8bc1-9ff2b66d8601",
   "metadata": {},
   "source": [
    "Define two functions:\n",
    "1. create_noise creates a tensor of random values chosen using the specified distribution.  The tensor shape is (batch_size,z_size,1,1).\n",
    "2. create_samples passes a latent tensor input_z through the current generator model to generate a batch of fake samples."
   ]
  },
  {
   "cell_type": "code",
   "execution_count": 4,
   "id": "653977ae-2bff-4fdc-8049-ac642e0a47a1",
   "metadata": {},
   "outputs": [],
   "source": [
    "def create_noise(batch_size,z_size,mode_z):\n",
    "    if mode_z == 'uniform':\n",
    "        input_z = torch.rand(batch_size,z_size,1,1)*2-1\n",
    "    elif mode_z == 'normal':\n",
    "        input_z = torch,randn(batch_size,z_size,1,1)\n",
    "    return input_z\n",
    "\n",
    "def create_samples(g_model,input_z):\n",
    "    g_output = g_model(input_z)\n",
    "    images = torch.reshape(g_output,(batch_size,*image_size))\n",
    "    return (images+1)/2.0"
   ]
  },
  {
   "cell_type": "markdown",
   "id": "2248b9fa-c6c6-4b47-a904-174d3170566b",
   "metadata": {},
   "source": [
    "Specify parameters and initialize generator and discriminator/critic networks."
   ]
  },
  {
   "cell_type": "code",
   "execution_count": 5,
   "id": "aaef2714-6422-4e9d-8ba0-1ae8544a3bbc",
   "metadata": {},
   "outputs": [],
   "source": [
    "z_size=100\n",
    "n_filters=32\n",
    "\n",
    "gen_model = make_gen_net(z_size,n_filters).to(device)\n",
    "disc_model = Discriminator(n_filters).to(device)\n",
    "\n",
    "g_opt = torch.optim.Adam(gen_model.parameters(),0.0002)\n",
    "d_opt = torch.optim.Adam(disc_model.parameters(),0.0002)"
   ]
  },
  {
   "cell_type": "code",
   "execution_count": 6,
   "id": "bb6b44af-36e9-493d-911f-d9bc3ad55567",
   "metadata": {},
   "outputs": [
    {
     "name": "stdout",
     "output_type": "stream",
     "text": [
      "Sequential(\n",
      "  (0): ConvTranspose2d(100, 128, kernel_size=(4, 4), stride=(1, 1), bias=False)\n",
      "  (1): InstanceNorm2d(128, eps=1e-05, momentum=0.1, affine=False, track_running_stats=False)\n",
      "  (2): LeakyReLU(negative_slope=0.2)\n",
      "  (3): ConvTranspose2d(128, 64, kernel_size=(3, 3), stride=(2, 2), padding=(1, 1), bias=False)\n",
      "  (4): InstanceNorm2d(64, eps=1e-05, momentum=0.1, affine=False, track_running_stats=False)\n",
      "  (5): LeakyReLU(negative_slope=0.2)\n",
      "  (6): ConvTranspose2d(64, 32, kernel_size=(4, 4), stride=(2, 2), padding=(1, 1), bias=False)\n",
      "  (7): InstanceNorm2d(32, eps=1e-05, momentum=0.1, affine=False, track_running_stats=False)\n",
      "  (8): LeakyReLU(negative_slope=0.2)\n",
      "  (9): ConvTranspose2d(32, 1, kernel_size=(4, 4), stride=(2, 2), padding=(1, 1), bias=False)\n",
      "  (10): Tanh()\n",
      ")\n",
      "Discriminator(\n",
      "  (network): Sequential(\n",
      "    (0): Conv2d(1, 32, kernel_size=(4, 4), stride=(2, 2), padding=(1, 1), bias=False)\n",
      "    (1): LeakyReLU(negative_slope=0.2)\n",
      "    (2): Conv2d(32, 64, kernel_size=(4, 4), stride=(2, 2), padding=(1, 1), bias=False)\n",
      "    (3): InstanceNorm2d(64, eps=1e-05, momentum=0.1, affine=False, track_running_stats=False)\n",
      "    (4): LeakyReLU(negative_slope=0.2)\n",
      "    (5): Conv2d(64, 128, kernel_size=(3, 3), stride=(2, 2), padding=(1, 1), bias=False)\n",
      "    (6): InstanceNorm2d(128, eps=1e-05, momentum=0.1, affine=False, track_running_stats=False)\n",
      "    (7): LeakyReLU(negative_slope=0.2)\n",
      "    (8): Conv2d(128, 1, kernel_size=(4, 4), stride=(1, 1), bias=False)\n",
      "    (9): Sigmoid()\n",
      "  )\n",
      ")\n"
     ]
    }
   ],
   "source": [
    "print(gen_model)\n",
    "print(disc_model)"
   ]
  },
  {
   "cell_type": "markdown",
   "id": "a65389a9-56fe-4432-89f6-a6d318802730",
   "metadata": {},
   "source": [
    "We will use a gradient penalty (GP) term in the loss function to promote the 1-Lipshitz property on the discriminator/critic.  We define the GP function, compute its gradient, and return the GP term for the loss function."
   ]
  },
  {
   "cell_type": "code",
   "execution_count": 7,
   "id": "bd7a0707-cc49-4e48-a8f5-ea77b9d370e1",
   "metadata": {},
   "outputs": [],
   "source": [
    "from torch.autograd import grad as torch_grad\n",
    "\n",
    "def grad_penalty(real_data,gen_data):\n",
    "    batch_size = real_data.size(0)\n",
    "    \n",
    "    # alpha is a random number sampled from (0,1) according to uniform distribution\n",
    "    alpha = torch.rand(real_data.shape[0],1,1,1,requires_grad=True,device=device)\n",
    "    \n",
    "    # Interpolate between real and fake examples according to alpha value\n",
    "    interpolated = alpha*real_data+(1-alpha)*gen_data\n",
    "    \n",
    "    # Compute the critic output for the interpolations\n",
    "    proba_interpolated = disc_model(interpolated)\n",
    "    \n",
    "    # Calculate the gradients of the critic's outputs\n",
    "    gradients = torch_grad(outputs=proba_interpolated,inputs=interpolated,\n",
    "                           grad_outputs=torch.ones(proba_interpolated.size(),device=device),\n",
    "                           create_graph=True,retain_graph=True)[0]\n",
    "    gradients=gradients.view(batch_size,-1)\n",
    "    gradients_norm = gradients.norm(2,dim=1)\n",
    "    \n",
    "    # Return the GP loss term\n",
    "    return lambda_gp*((gradients_norm-1)**2).mean()"
   ]
  },
  {
   "cell_type": "markdown",
   "id": "4909500c-2c08-47d5-8938-6dcefb0d8eab",
   "metadata": {},
   "source": [
    "Training functions for the generator and discriminator/critic."
   ]
  },
  {
   "cell_type": "code",
   "execution_count": 8,
   "id": "fb0c4773-140c-4583-95be-591aa2a136a7",
   "metadata": {},
   "outputs": [],
   "source": [
    "def d_train(x):\n",
    "    disc_model.zero_grad()\n",
    "    \n",
    "    batch_size=x.size(0)\n",
    "    x=x.to(device)\n",
    "    \n",
    "    # Compute the critic's rating for batch of real data\n",
    "    d_real = disc_model(x)\n",
    "    \n",
    "    # Generate batch of fake data and compute critic's rating on that\n",
    "    input_z = create_noise(batch_size,z_size,mode_z).to(device)\n",
    "    g_output = gen_model(input_z)\n",
    "    d_gen = disc_model(g_output)\n",
    "    \n",
    "    # Discriminator/critic loss, including GP term\n",
    "    d_loss = d_gen.mean() - d_real.mean() + grad_penalty(x.data,g_output.data)\n",
    "    \n",
    "    # Backprop step\n",
    "    d_loss.backward()\n",
    "    d_opt.step()\n",
    "    \n",
    "    # Return the discriminator/critic loss\n",
    "    return d_loss.data.item()\n",
    "    \n",
    "def g_train(x):\n",
    "    gen_model.zero_grad()\n",
    "    \n",
    "    batch_size=x.size(0)\n",
    "    \n",
    "    # Generate batch of fake data and compute critic's rating on that\n",
    "    input_z = create_noise(batch_size,z_size,mode_z).to(device)\n",
    "    g_output=gen_model(input_z)\n",
    "    d_gen = disc_model(g_output)\n",
    "    \n",
    "    # Generator loss\n",
    "    g_loss = -d_gen.mean()\n",
    "    \n",
    "    # Backprop step\n",
    "    g_loss.backward()\n",
    "    g_opt.step()\n",
    "    \n",
    "    # Return generator loss\n",
    "    return g_loss.data.item()"
   ]
  },
  {
   "cell_type": "markdown",
   "id": "99c995d6-e691-4f9d-99bc-2fdad82d81b0",
   "metadata": {},
   "source": [
    "Train the models, keeping track of loss and also storing five samples after each epoch in epoch_samples.  Note that for every iteration of training the generator, the discriminator/critic is trained for critic_iterations iterations."
   ]
  },
  {
   "cell_type": "code",
   "execution_count": null,
   "id": "e6e82479-b0e2-4300-9628-7ed88276f164",
   "metadata": {
    "tags": []
   },
   "outputs": [],
   "source": [
    "mode_z='uniform'\n",
    "lambda_gp=10.0\n",
    "critic_iterations=5\n",
    "fixed_z = create_noise(batch_size,z_size,mode_z).to(device)\n",
    "epoch_samples=[]\n",
    "num_epochs=100\n",
    "torch.manual_seed(1)\n",
    "\n",
    "for epoch in range(1,num_epochs+1):\n",
    "    # At the end of each epoch we evaluate using gen_model, so set back to train at start of each epoch\n",
    "    gen_model.train()\n",
    "    \n",
    "    d_losses, g_losses = [],[]\n",
    "    for i, (x,_) in enumerate(mnist_dl):\n",
    "        # Train the discriminator/critic for several iterations and record loss afterwards\n",
    "        for _ in range(critic_iterations):\n",
    "            d_loss=d_train(x)\n",
    "        d_losses.append(d_loss)\n",
    "        # Train generator for one iteration and record the loss afterwards\n",
    "        g_losses.append(g_train(x))\n",
    "    \n",
    "    # Print discriminator/critic loss after each epoch\n",
    "    print(f'Epoch {epoch:03d}| D Loss >> {torch.FloatTensor(d_losses).mean():.4f}')\n",
    "    \n",
    "    # Generate images based on fixed_z input after each epoch, so we can qualitatively track learning\n",
    "    gen_model.eval()\n",
    "    epoch_samples.append(create_samples(gen_model,fixed_z).detach().cpu().numpy())"
   ]
  },
  {
   "cell_type": "markdown",
   "id": "e322f488-3608-474f-9443-6fd503d6b7ce",
   "metadata": {},
   "source": [
    "Draw our the first five generated samples after epochs 1, 2, 4, 10, 50, 100"
   ]
  },
  {
   "cell_type": "code",
   "execution_count": 12,
   "id": "158b627a-b2b2-4db9-bef6-645f9183ab9b",
   "metadata": {},
   "outputs": [
    {
     "data": {
      "image/png": "[encoded data removed]",
      "text/plain": [
       "<Figure size 720x1008 with 30 Axes>"
      ]
     },
     "metadata": {},
     "output_type": "display_data"
    }
   ],
   "source": [
    "selected_epochs = [1,2,4,10,50,100]\n",
    "fig = plt.figure(figsize=(10,14))\n",
    "for i,e in enumerate(selected_epochs):\n",
    "    for j in range(5):\n",
    "        ax = fig.add_subplot(6,5,i*5+j+1)\n",
    "        ax.set_xticks([])\n",
    "        ax.set_yticks([])\n",
    "        if j==0:\n",
    "            ax.text(-0.06,0.5,f'Epoch {e}',rotation=90,size=18,color='red',horizontalalignment='right',verticalalignment='center',transform=ax.transAxes)\n",
    "        image=epoch_samples[e-1][j]\n",
    "        ax.imshow(image,cmap='gray_r')\n",
    "            \n",
    "plt.show()"
   ]
  },
  {
   "cell_type": "markdown",
   "id": "12dd80a0-fa77-4c67-a90f-fbd42a5fc442",
   "metadata": {},
   "source": [
    "Save our trained models for later use."
   ]
  },
  {
   "cell_type": "code",
   "execution_count": 13,
   "id": "8ed33764-9b15-4d0f-aefc-3c341f07fd90",
   "metadata": {},
   "outputs": [],
   "source": [
    "torch.save(gen_model,'mnist_WGAN-GP_gen_model.pth')\n",
    "torch.save(disc_model,'mnist_WGAN-GP_disc_model.pth')\n",
    "torch.save(gen_model.state_dict(),'mnist_WGAN-GP_gen_model_weights.pth')\n",
    "torch.save(disc_model.state_dict(),'mnist_WGAN-GP_disc_model_weights.pth')"
   ]
  },
  {
   "cell_type": "code",
   "execution_count": null,
   "id": "2dbb8cc7-7eee-4374-8c10-80dd4eb4b2a2",
   "metadata": {},
   "outputs": [],
   "source": []
  }
 ],
 "metadata": {
  "kernelspec": {
   "display_name": "Python 3 (ipykernel)",
   "language": "python",
   "name": "python3"
  },
  "language_info": {
   "codemirror_mode": {
    "name": "ipython",
    "version": 3
   },
   "file_extension": ".py",
   "mimetype": "text/x-python",
   "name": "python",
   "nbconvert_exporter": "python",
   "pygments_lexer": "ipython3",
   "version": "3.9.13"
  }
 },
 "nbformat": 4,
 "nbformat_minor": 5
}
